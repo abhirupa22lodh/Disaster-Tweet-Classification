{
 "cells": [
  {
   "cell_type": "code",
   "execution_count": null,
   "metadata": {},
   "outputs": [],
   "source": [
    "import warnings\n",
    "warnings.filterwarnings(\"ignore\")\n",
    "import pandas as pd\n",
    "import numpy as np\n",
    "import re"
   ]
  },
  {
   "cell_type": "code",
   "execution_count": null,
   "metadata": {},
   "outputs": [],
   "source": [
    "input_train = pd.read_csv(\"Data/train.csv\",encoding= 'utf-8')\n",
    "print(input_train.shape)\n",
    "print(\"\\n\\n\")\n",
    "print(input_train.describe())\n",
    "print(\"\\n\\n\")\n",
    "print(input_train.describe(include='object'))\n",
    "print(\"\\n\\n Number of NaN\")\n",
    "display(input_train.isna().sum())\n",
    "print(\"\\n\")\n",
    "input_train.head()"
   ]
  },
  {
   "cell_type": "code",
   "execution_count": null,
   "metadata": {},
   "outputs": [],
   "source": [
    "custom_junk_words = [\"\\x89Û_\",\"\\x89ÛÒ\",\"\\x89Û÷\",\"&gt;\",\"%20\",\"\\x89Ûª\",\"&lt;\",\"\\x89ÛÏ\",\"\\x89Û\\x9d\",\"åÊ\",\"&amp;\",\"\\n\"]\n",
    "custom_junk_words = \"|\".join(custom_junk_words)\n",
    "custom_junk_words"
   ]
  },
  {
   "cell_type": "code",
   "execution_count": null,
   "metadata": {},
   "outputs": [],
   "source": [
    "# Remove Junk\n",
    "input_train['keyword'] = input_train.keyword.fillna('').apply(lambda x : x.replace('%20',' '))\n",
    "input_train['text_proc'] = input_train.text_proc.apply(lambda x : \" \".join(re.sub(custom_junk_words,\" \",x).strip().split()))\n",
    "input_train"
   ]
  },
  {
   "cell_type": "code",
   "execution_count": null,
   "metadata": {},
   "outputs": [],
   "source": [
    "### Separate account tags and remove from the preprocessed text\n",
    "input_train['accounts_tag'] = input_train.text_proc.apply(lambda x : \" , \".join(re.findall(\"@\\S+\",x)))\n",
    "input_train['text_proc'] = input_train.text_proc.apply(lambda x : \" \".join(re.sub(\"@\\S+\",\" \",x).strip().split()))\n",
    "input_train"
   ]
  },
  {
   "cell_type": "code",
   "execution_count": null,
   "metadata": {},
   "outputs": [],
   "source": [
    "### Separate Hashtag and remove # from preprocessed text\n",
    "input_train['hashtags'] = input_train.text_proc.apply(lambda x : \" , \".join(re.findall(\"#\\S+\",x)))\n",
    "input_train['text_proc'] = input_train.text_proc.apply(lambda x : \" \".join(re.sub(\"#\",\"\",x).strip().split()))\n",
    "input_train"
   ]
  },
  {
   "cell_type": "code",
   "execution_count": null,
   "metadata": {},
   "outputs": [],
   "source": [
    "### Remove url\n",
    "input_train['text_proc'] = input_train.text_proc.apply(lambda x : \" \".join(re.sub('http[s]?://(?:[a-zA-Z]|[0-9]|[$-_@.&+]|[!*\\(\\),]|(?:%[0-9a-fA-F][0-9a-fA-F]))+',\" \", x).\\\n",
    "                                                                           strip().\\\n",
    "                                                                           split()))\n",
    "input_train"
   ]
  },
  {
   "cell_type": "code",
   "execution_count": null,
   "metadata": {},
   "outputs": [],
   "source": [
    "set(input_train['text_proc'])"
   ]
  }
 ],
 "metadata": {
  "kernelspec": {
   "display_name": "Python 3",
   "language": "python",
   "name": "python3"
  },
  "language_info": {
   "codemirror_mode": {
    "name": "ipython",
    "version": 3
   },
   "file_extension": ".py",
   "mimetype": "text/x-python",
   "name": "python",
   "nbconvert_exporter": "python",
   "pygments_lexer": "ipython3",
   "version": "3.7.4"
  }
 },
 "nbformat": 4,
 "nbformat_minor": 2
}
