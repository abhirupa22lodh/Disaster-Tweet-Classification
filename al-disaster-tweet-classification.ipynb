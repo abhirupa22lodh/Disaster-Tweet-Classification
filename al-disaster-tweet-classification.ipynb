{
 "cells": [
  {
   "cell_type": "code",
   "execution_count": null,
   "metadata": {},
   "outputs": [],
   "source": [
    "import pandas as pd\n",
    "import numpy as np\n",
    "import re\n",
    "import warnings\n",
    "warnings.filterwarnings(\"ignore\")"
   ]
  },
  {
   "cell_type": "code",
   "execution_count": null,
   "metadata": {},
   "outputs": [],
   "source": [
    "input_train = pd.read_csv(\"Data/train.csv\")\n",
    "print(input_train.shape)\n",
    "print(\"\\n\\n\")\n",
    "print(input_train.describe())\n",
    "print(\"\\n\\n\")\n",
    "print(input_train.describe(include='object'))\n",
    "print(\"\\n\\n Number of NaN\")\n",
    "display(input_train.isna().sum())\n",
    "print(\"\\n\")\n",
    "input_train.head()"
   ]
  },
  {
   "cell_type": "code",
   "execution_count": null,
   "metadata": {},
   "outputs": [],
   "source": [
    "# Replace \\n by ' '\n",
    "input_train['text_proc'] = input_train.text.apply(lambda x : x.replace('\\n',' '))\n",
    "input_train['text_proc'] = input_train.text_proc.apply(lambda x : x.replace('%20',' '))\n",
    "input_train['keyword'] = input_train.keyword.fillna('').apply(lambda x : x.replace('%20',' '))\n",
    "input_train"
   ]
  },
  {
   "cell_type": "code",
   "execution_count": null,
   "metadata": {},
   "outputs": [],
   "source": [
    "### Separate account tags\n",
    "input_train['accounts_tag'] = input_train.text_proc.apply(lambda x : \" , \".join(re.findall(\"@\\S+\",x)))\n",
    "input_train"
   ]
  },
  {
   "cell_type": "code",
   "execution_count": null,
   "metadata": {},
   "outputs": [],
   "source": [
    "### Separate Hashtag\n",
    "input_train['hashtags'] = input_train.text_proc.apply(lambda x : \" , \".join(re.findall(\"#\\S+\",x)))\n",
    "input_train"
   ]
  },
  {
   "cell_type": "code",
   "execution_count": null,
   "metadata": {},
   "outputs": [],
   "source": [
    "set(input_train['keyword'])"
   ]
  },
  {
   "cell_type": "code",
   "execution_count": null,
   "metadata": {},
   "outputs": [],
   "source": [
    "set(input_train['hashtags'])"
   ]
  }
 ],
 "metadata": {
  "kernelspec": {
   "display_name": "Python 3",
   "language": "python",
   "name": "python3"
  },
  "language_info": {
   "codemirror_mode": {
    "name": "ipython",
    "version": 3
   },
   "file_extension": ".py",
   "mimetype": "text/x-python",
   "name": "python",
   "nbconvert_exporter": "python",
   "pygments_lexer": "ipython3",
   "version": "3.7.4"
  }
 },
 "nbformat": 4,
 "nbformat_minor": 2
}
